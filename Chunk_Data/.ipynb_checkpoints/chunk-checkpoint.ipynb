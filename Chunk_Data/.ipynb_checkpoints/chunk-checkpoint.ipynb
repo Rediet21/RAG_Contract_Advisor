{
 "cells": [
  {
   "cell_type": "code",
   "execution_count": 6,
   "id": "34f29fc6-550a-4cec-86d7-5b73ac2e0f71",
   "metadata": {},
   "outputs": [
    {
     "name": "stdout",
     "output_type": "stream",
     "text": [
      "Defaulting to user installation because normal site-packages is not writeable\n",
      "Collecting PyPDF2\n",
      "  Obtaining dependency information for PyPDF2 from https://files.pythonhosted.org/packages/8e/5e/c86a5643653825d3c913719e788e41386bee415c2b87b4f955432f2de6b2/pypdf2-3.0.1-py3-none-any.whl.metadata\n",
      "  Downloading pypdf2-3.0.1-py3-none-any.whl.metadata (6.8 kB)\n",
      "Downloading pypdf2-3.0.1-py3-none-any.whl (232 kB)\n",
      "   ---------------------------------------- 0.0/232.6 kB ? eta -:--:--\n",
      "   - -------------------------------------- 10.2/232.6 kB ? eta -:--:--\n",
      "   - -------------------------------------- 10.2/232.6 kB ? eta -:--:--\n",
      "   ------ -------------------------------- 41.0/232.6 kB 245.8 kB/s eta 0:00:01\n",
      "   ------ -------------------------------- 41.0/232.6 kB 245.8 kB/s eta 0:00:01\n",
      "   --------------- ----------------------- 92.2/232.6 kB 348.6 kB/s eta 0:00:01\n",
      "   --------------- ----------------------- 92.2/232.6 kB 348.6 kB/s eta 0:00:01\n",
      "   ---------------- --------------------- 102.4/232.6 kB 267.9 kB/s eta 0:00:01\n",
      "   ------------------------------- ------ 194.6/232.6 kB 535.8 kB/s eta 0:00:01\n",
      "   ------------------------------- ------ 194.6/232.6 kB 535.8 kB/s eta 0:00:01\n",
      "   -------------------------------------- 232.6/232.6 kB 474.1 kB/s eta 0:00:00\n",
      "Installing collected packages: PyPDF2\n",
      "Successfully installed PyPDF2-3.0.1\n"
     ]
    }
   ],
   "source": [
    "#!pip install langchain\n",
    "#!pip install PyPDF2\n",
    "\n"
   ]
  },
  {
   "cell_type": "code",
   "execution_count": 7,
   "id": "385d9e39",
   "metadata": {},
   "outputs": [],
   "source": [
    "from langchain.text_splitter import RecursiveCharacterTextSplitter"
   ]
  },
  {
   "cell_type": "code",
   "execution_count": 8,
   "id": "bc5273d2-8643-4bc4-9328-fd018763fa31",
   "metadata": {},
   "outputs": [
    {
     "data": {
      "text/plain": [
       "<PyPDF2._reader.PdfReader at 0x1cbd88ce810>"
      ]
     },
     "execution_count": 8,
     "metadata": {},
     "output_type": "execute_result"
    }
   ],
   "source": [
    "from PyPDF2 import PdfReader\n",
    "from langchain.text_splitter import RecursiveCharacterTextSplitter\n",
    "\n",
    "\n",
    "file = PdfReader('Robinson Advisory.pdf')\n",
    "file"
   ]
  },
  {
   "cell_type": "code",
   "execution_count": 9,
   "id": "93f3eb9f-25ac-4623-bec6-1e0f0e896a9c",
   "metadata": {},
   "outputs": [],
   "source": [
    "raw_text = ''\n",
    "\n",
    "for i, page in enumerate (file.pages):\n",
    "    text = page.extract_text()\n",
    "    if text:\n",
    "        raw_text += text"
   ]
  },
  {
   "cell_type": "code",
   "execution_count": 10,
   "id": "a87cee9f-3e2c-4a6b-a29a-3f6b7b400ed9",
   "metadata": {},
   "outputs": [
    {
     "data": {
      "text/plain": [
       "14486"
      ]
     },
     "execution_count": 10,
     "metadata": {},
     "output_type": "execute_result"
    }
   ],
   "source": [
    "len (raw_text)\n"
   ]
  },
  {
   "cell_type": "code",
   "execution_count": 11,
   "id": "6e21755d-9891-4917-808c-18c8e731c115",
   "metadata": {},
   "outputs": [
    {
     "data": {
      "text/plain": [
       "'ADVISOR Y\\nSER VICES\\nAGREEMENT\\nThis\\nAdvisory\\nServices\\nAgreement\\nis\\nentered\\ninto\\nas\\nof\\nJune\\n15\\nth\\n,\\n2023\\n(the\\n“\\nEffective\\nDate\\n”),\\nby\\nand \\nbetween\\nCloud\\nInvestments\\nLtd.,\\nID\\n51-426526-3,\\nan\\nIsraeli\\ncompany\\n(the\\n\"\\nCompany\\n\"),\\nand\\nMr.\\nJack \\nRobinson,\\nPassport\\nNumber\\n780055578,\\nresiding\\nat\\n1\\nRabin\\nst,\\nTel\\nAviv,\\nIsrael,\\nEmail: \\njackrobinson@gmail.com\\n(\"\\nAdvisor\\n\").\\nWhereas,\\nAdvisor\\nhas\\nexpertise\\nand/or\\nknowledge\\nand/or\\nrelationships,\\nwhich\\nare\\nrelevant\\nto\\nthe \\nCompany’ s\\nbusiness\\nand\\nthe\\nCompany\\nhas\\nasked\\nAdvisor\\nto\\nprovide\\nit\\nwith\\ncertain\\nAdvisory \\nservices,\\nas\\ndescribed\\nin\\nthis\\nAgreement;\\nand\\nWhereas,\\nAdvisor\\nhas\\nagreed\\nto\\nprovide\\nthe\\nCompany\\nwith\\nsuch\\nservices,\\nsubject\\nto\\nthe\\nterms\\nset\\nforth \\nin\\nthis\\nAgreement.\\nNOW\\nTHEREFORE\\nTHE\\nPARTIES\\nAGREE\\nAS\\nFOLLOWS:\\n1.\\nServices:\\n1.1\\nAdvisor\\nshall\\nprovide\\nto\\nthe\\nCompany ,\\nas\\nan\\nindependent\\ncontractor ,\\nsoftware\\ndevelopment \\nservices,\\nand\\n/\\nor\\nany\\nother\\nservices\\nas\\nagreed\\nby\\nthe\\nparties\\nfrom\\ntime\\nto\\ntime\\n(the\\n“\\nServices\\n”). \\nAdvisor\\nshall\\nnot\\nappoint\\na'"
      ]
     },
     "execution_count": 11,
     "metadata": {},
     "output_type": "execute_result"
    }
   ],
   "source": [
    "raw_text[:1000]"
   ]
  },
  {
   "cell_type": "code",
   "execution_count": 13,
   "id": "1c3877f7-2d0d-4460-bdb4-fa074309a1aa",
   "metadata": {},
   "outputs": [],
   "source": [
    "text_splitter = RecursiveCharacterTextSplitter(\n",
    "    chunk_size = 500,\n",
    "    chunk_overlap = 0,\n",
    "    length_function = len,\n",
    ")\n",
    "\n",
    "chunks = text_splitter.split_text(raw_text)"
   ]
  },
  {
   "cell_type": "markdown",
   "id": "2144bcef",
   "metadata": {},
   "source": [
    "Text Splitter\n"
   ]
  },
  {
   "cell_type": "code",
   "execution_count": 15,
   "id": "23ce8e56",
   "metadata": {},
   "outputs": [],
   "source": [
    "text_splitter = RecursiveCharacterTextSplitter(\n",
    "    chunk_size = 500,\n",
    "    chunk_overlap = 0,\n",
    "    length_function = len,\n",
    ")\n",
    "\n",
    "text = text_splitter.split_text(raw_text)"
   ]
  },
  {
   "cell_type": "code",
   "execution_count": 16,
   "id": "6b2f769a",
   "metadata": {},
   "outputs": [
    {
     "data": {
      "text/plain": [
       "30"
      ]
     },
     "execution_count": 16,
     "metadata": {},
     "output_type": "execute_result"
    }
   ],
   "source": [
    "len(text)"
   ]
  },
  {
   "cell_type": "code",
   "execution_count": null,
   "id": "31505412",
   "metadata": {},
   "outputs": [],
   "source": []
  }
 ],
 "metadata": {
  "kernelspec": {
   "display_name": "Python 3 (ipykernel)",
   "language": "python",
   "name": "python3"
  },
  "language_info": {
   "codemirror_mode": {
    "name": "ipython",
    "version": 3
   },
   "file_extension": ".py",
   "mimetype": "text/x-python",
   "name": "python",
   "nbconvert_exporter": "python",
   "pygments_lexer": "ipython3",
   "version": "3.11.5"
  }
 },
 "nbformat": 4,
 "nbformat_minor": 5
}
